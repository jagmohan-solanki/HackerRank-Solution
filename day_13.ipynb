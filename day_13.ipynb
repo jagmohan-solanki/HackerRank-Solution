{
 "cells": [
  {
   "cell_type": "markdown",
   "metadata": {},
   "source": [
    "## Task :"
   ]
  },
  {
   "cell_type": "markdown",
   "metadata": {},
   "source": [
    "## sample input"
   ]
  },
  {
   "cell_type": "raw",
   "metadata": {},
   "source": [
    "The Alchemist\n",
    "Paulo Coelho\n",
    "248"
   ]
  },
  {
   "cell_type": "markdown",
   "metadata": {},
   "source": [
    "## sample output"
   ]
  },
  {
   "cell_type": "raw",
   "metadata": {},
   "source": [
    "Title: The Alchemist\n",
    "Author: Paulo Coelho\n",
    "Price: 248\n"
   ]
  },
  {
   "cell_type": "markdown",
   "metadata": {},
   "source": [
    "## code :"
   ]
  },
  {
   "cell_type": "code",
   "execution_count": null,
   "metadata": {},
   "outputs": [],
   "source": [
    "from abc import ABCMeta, abstractmethod\n",
    "class Book(object, metaclass=ABCMeta):\n",
    "    def __init__(self,title,author):\n",
    "        self.title=title\n",
    "        self.author=author   \n",
    "    @abstractmethod\n",
    "    def display(): pass\n",
    "\n",
    "#Write MyBook class\n",
    "class MyBook(Book):\n",
    "    def __init__(self,title,author,price):\n",
    "        super(Book, self).__init__()\n",
    "        #super().__init__(title,author)\n",
    "        self.price=price\n",
    "    \n",
    "    def display(self):\n",
    "        print(\"Title: \"+title)\n",
    "        print(\"Author: \"+author)\n",
    "        print(\"Price: \"+str(price))\n",
    "\n",
    "title=input()\n",
    "author=input()\n",
    "price=int(input())\n",
    "new_novel=MyBook(title,author,price)\n",
    "new_novel.display()"
   ]
  }
 ],
 "metadata": {
  "kernelspec": {
   "display_name": "Python 3",
   "language": "python",
   "name": "python3"
  },
  "language_info": {
   "codemirror_mode": {
    "name": "ipython",
    "version": 3
   },
   "file_extension": ".py",
   "mimetype": "text/x-python",
   "name": "python",
   "nbconvert_exporter": "python",
   "pygments_lexer": "ipython3",
   "version": "3.5.2"
  }
 },
 "nbformat": 4,
 "nbformat_minor": 2
}
