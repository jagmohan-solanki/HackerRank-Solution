{
 "cells": [
  {
   "cell_type": "markdown",
   "metadata": {},
   "source": [
    "# Task"
   ]
  },
  {
   "cell_type": "raw",
   "metadata": {},
   "source": [
    "Given an array,A of N integers, print A's elements in reverse order as a single line of space-separated numbers.\n",
    "\n",
    "Input Format\n",
    "\n",
    "The first line contains an integer,N(the size of our array).\n",
    "The second line contains N space-separated integers describing array A's elements."
   ]
  },
  {
   "cell_type": "markdown",
   "metadata": {},
   "source": [
    "### Sample Input"
   ]
  },
  {
   "cell_type": "code",
   "execution_count": null,
   "metadata": {},
   "outputs": [],
   "source": [
    "4\n",
    "1 4 3 2"
   ]
  },
  {
   "cell_type": "markdown",
   "metadata": {},
   "source": [
    "### Sample Output"
   ]
  },
  {
   "cell_type": "code",
   "execution_count": null,
   "metadata": {},
   "outputs": [],
   "source": [
    "2 3 4 1"
   ]
  },
  {
   "cell_type": "markdown",
   "metadata": {},
   "source": [
    "# Code 1:-"
   ]
  },
  {
   "cell_type": "code",
   "execution_count": null,
   "metadata": {},
   "outputs": [],
   "source": [
    "a = arr[::-1]\n",
    "    for i in a:\n",
    "        print(i,end=\" \")"
   ]
  },
  {
   "cell_type": "markdown",
   "metadata": {},
   "source": [
    "### Code 2"
   ]
  },
  {
   "cell_type": "code",
   "execution_count": 3,
   "metadata": {},
   "outputs": [
    {
     "name": "stdout",
     "output_type": "stream",
     "text": [
      "enter number : 4\n",
      "Enter :686\n",
      "Enter :593\n",
      "Enter :254\n",
      "Enter :356\n",
      "[686, 593, 254, 356]\n",
      "[356, 254, 593, 686]\n"
     ]
    }
   ],
   "source": [
    "d = []\n",
    "E = []\n",
    "a = int(input(\"enter number : \"))\n",
    "for i in range(a):    \n",
    "    c = int(input(\"Enter :\"))\n",
    "    d.append(c)\n",
    "print(d)\n",
    "for j in range(len(d),0,-1):\n",
    "    E.append(d[j-1])\n",
    "print(E)    "
   ]
  },
  {
   "cell_type": "code",
   "execution_count": null,
   "metadata": {},
   "outputs": [],
   "source": []
  }
 ],
 "metadata": {
  "kernelspec": {
   "display_name": "Python 3",
   "language": "python",
   "name": "python3"
  },
  "language_info": {
   "codemirror_mode": {
    "name": "ipython",
    "version": 3
   },
   "file_extension": ".py",
   "mimetype": "text/x-python",
   "name": "python",
   "nbconvert_exporter": "python",
   "pygments_lexer": "ipython3",
   "version": "3.5.2"
  }
 },
 "nbformat": 4,
 "nbformat_minor": 2
}
