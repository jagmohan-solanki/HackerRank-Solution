{
 "cells": [
  {
   "cell_type": "markdown",
   "metadata": {},
   "source": [
    "# Task"
   ]
  },
  {
   "cell_type": "raw",
   "metadata": {},
   "source": [
    "Alice and Bob each created one problem for HackerRank. A reviewer rates the two \n",
    "challenges, awarding points on a scale from 1 to 100 for three categories: problem \n",
    "clarity, originality, and difficulty. \n",
    "\n",
    "We define the rating for Alice's challenge to be the triplet a = (a[0],a[1],a[2]) , \n",
    "and the rating for Bob's challenge to be the triplet b = (b[0],b[1],b[2]).\n",
    "\n",
    "Your task is to find their comparison points by comparing with a[0], with b[0],a[1]\n",
    "with b[1], and a[2] with b[2] . \n",
    "         1) If a[i] > b[i], then Alice is awarded point. \n",
    "         2) If  a[i] < b[i] , then Bob is awarded point. \n",
    "         3)  If  a[i] = b[i] , then Alice is awarded point. \n",
    "         \n",
    "       "
   ]
  },
  {
   "cell_type": "markdown",
   "metadata": {},
   "source": [
    "### Sample Input"
   ]
  },
  {
   "cell_type": "code",
   "execution_count": null,
   "metadata": {},
   "outputs": [],
   "source": [
    "5 6 7\n",
    "3 6 10"
   ]
  },
  {
   "cell_type": "markdown",
   "metadata": {},
   "source": [
    "### Sample Output"
   ]
  },
  {
   "cell_type": "code",
   "execution_count": null,
   "metadata": {},
   "outputs": [],
   "source": [
    "1 1"
   ]
  },
  {
   "cell_type": "markdown",
   "metadata": {},
   "source": [
    "# Code :-"
   ]
  },
  {
   "cell_type": "code",
   "execution_count": 45,
   "metadata": {},
   "outputs": [
    {
     "name": "stdout",
     "output_type": "stream",
     "text": [
      "[2, 2]\n"
     ]
    }
   ],
   "source": [
    "\n",
    "d=list(zip(a,b))\n",
    "\n",
    "counter1=0\n",
    "counter2=0\n",
    "e=[]\n",
    "for i in d:\n",
    "   \n",
    "    if(i[0]==i[1]):\n",
    "        continue\n",
    "    elif(i[0]>i[1]):\n",
    "        counter1+=1\n",
    "    elif(i[0]<i[1]):\n",
    "        counter2+=1\n",
    "e.append(counter1)\n",
    "e.append(counter2)\n",
    "print(e)"
   ]
  },
  {
   "cell_type": "markdown",
   "metadata": {},
   "source": [
    "## code 2"
   ]
  },
  {
   "cell_type": "code",
   "execution_count": 43,
   "metadata": {},
   "outputs": [],
   "source": [
    "import os\n",
    "import random\n",
    "import re\n",
    "import sys\n",
    "\n",
    "# Complete the compareTriplets function below.\n",
    "def compareTriplets(a, b):\n",
    "    score = [0,0]\n",
    "    for i,j in zip(a,b):\n",
    "        #print(i,j) \n",
    "        if (i > j):\n",
    "            score[0] += 1\n",
    "                       \n",
    "        elif (i<j):\n",
    "            score[1] += 1\n",
    "        else :\n",
    "            pass\n",
    "    return score\n"
   ]
  },
  {
   "cell_type": "code",
   "execution_count": null,
   "metadata": {},
   "outputs": [],
   "source": []
  }
 ],
 "metadata": {
  "kernelspec": {
   "display_name": "Python 3",
   "language": "python",
   "name": "python3"
  },
  "language_info": {
   "codemirror_mode": {
    "name": "ipython",
    "version": 3
   },
   "file_extension": ".py",
   "mimetype": "text/x-python",
   "name": "python",
   "nbconvert_exporter": "python",
   "pygments_lexer": "ipython3",
   "version": "3.5.2"
  }
 },
 "nbformat": 4,
 "nbformat_minor": 2
}
