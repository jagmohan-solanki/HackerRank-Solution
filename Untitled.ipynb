{
 "cells": [
  {
   "cell_type": "raw",
   "metadata": {},
   "source": [
    "Given a string,S,of L length that is indexed from  0 to N-1 ,\n",
    "print its even-indexed and odd-indexed characters as 2 space-separated \n",
    "strings on a single line (see the Sample below for more detail).\n",
    "Note: 0 is considered to be an even index."
   ]
  },
  {
   "cell_type": "markdown",
   "metadata": {},
   "source": [
    "## Sample Input\n",
    "\n"
   ]
  },
  {
   "cell_type": "raw",
   "metadata": {},
   "source": [
    "2\n",
    "Hacker\n",
    "Rank"
   ]
  },
  {
   "cell_type": "markdown",
   "metadata": {},
   "source": [
    "## Sample Output"
   ]
  },
  {
   "cell_type": "raw",
   "metadata": {},
   "source": [
    "Hce akr\n",
    "Rn ak"
   ]
  },
  {
   "cell_type": "markdown",
   "metadata": {},
   "source": [
    "## Code"
   ]
  },
  {
   "cell_type": "code",
   "execution_count": 1,
   "metadata": {},
   "outputs": [
    {
     "name": "stdout",
     "output_type": "stream",
     "text": [
      "2\n",
      "hacker\n",
      "hce akr\n",
      "rank\n",
      "rn ak\n"
     ]
    }
   ],
   "source": [
    "# Enter your code here. Read input from STDIN. Print output to STDOUT\n",
    "\n",
    "def m1(Number):\n",
    "    for i in range(0,Number):\n",
    "        S = input()\n",
    "        for j in range(0,len(S)):\n",
    "            if (j%2 == 0):\n",
    "                print(S[j],end=\"\")\n",
    "        print(\" \", end='')\n",
    "        \n",
    "        for j in range(0,len(S)):\n",
    "            if (j%2 != 0):\n",
    "                print(S[j],end=\"\")\n",
    "        print(\"\")\n",
    "\n",
    "Number = int(input()) \n",
    "m1(Number)\n",
    "           "
   ]
  },
  {
   "cell_type": "code",
   "execution_count": null,
   "metadata": {},
   "outputs": [],
   "source": []
  }
 ],
 "metadata": {
  "kernelspec": {
   "display_name": "Python 3",
   "language": "python",
   "name": "python3"
  },
  "language_info": {
   "codemirror_mode": {
    "name": "ipython",
    "version": 3
   },
   "file_extension": ".py",
   "mimetype": "text/x-python",
   "name": "python",
   "nbconvert_exporter": "python",
   "pygments_lexer": "ipython3",
   "version": "3.5.2"
  }
 },
 "nbformat": 4,
 "nbformat_minor": 2
}
