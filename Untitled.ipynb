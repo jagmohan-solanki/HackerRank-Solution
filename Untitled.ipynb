{
 "cells": [
  {
   "cell_type": "markdown",
   "metadata": {},
   "source": [
    "## Task"
   ]
  },
  {
   "cell_type": "raw",
   "metadata": {},
   "source": [
    " Given n names and phone numbers, assemble a phone book that maps friends' names to their respective phone numbers. You will then be given an unknown number of names to query your phone book for. For each name queried, print the associated entry from your phone book on a new line in the form name=phoneNumber; if an entry for name is not found, print Not found instead.\n",
    "\n",
    "Note: Your phone book should be a Dictionary/Map/HashMap data structure. "
   ]
  },
  {
   "cell_type": "markdown",
   "metadata": {},
   "source": [
    "## Sample Input\n",
    "\n"
   ]
  },
  {
   "cell_type": "raw",
   "metadata": {},
   "source": [
    "3\n",
    "sam 99912222\n",
    "tom 11122222\n",
    "harry 12299933\n",
    "sam\n",
    "edward\n",
    "harry\n"
   ]
  },
  {
   "cell_type": "markdown",
   "metadata": {},
   "source": [
    "## Sample Output"
   ]
  },
  {
   "cell_type": "raw",
   "metadata": {},
   "source": [
    "sam=99912222\n",
    "Not found\n",
    "harry=12299933\n"
   ]
  },
  {
   "cell_type": "markdown",
   "metadata": {},
   "source": [
    "## Code"
   ]
  },
  {
   "cell_type": "code",
   "execution_count": null,
   "metadata": {},
   "outputs": [
    {
     "name": "stdout",
     "output_type": "stream",
     "text": [
      "Enter number3\n",
      "Enter key : a\n",
      "Enter value : 100\n",
      "Enter key : b\n",
      "Enter value : 200\n",
      "Enter key : c\n",
      "Enter value : 300\n",
      "a\n",
      "a=100\n",
      "b\n",
      "b=200\n",
      "c\n",
      "c=300\n",
      "d\n",
      "not found\n"
     ]
    }
   ],
   "source": [
    "a = int(input())\n",
    "p = {}\n",
    "for i in range(a):\n",
    "    f = input()\n",
    "    t = f.split(\" \")\n",
    "    p[t[0]] = t[1]\n",
    "\n",
    "flag =True\n",
    "while flag:\n",
    "    try:\n",
    "        q = input()\n",
    "        if q in p:\n",
    "            print(\"{}={}\".format(q,p.get(q)))\n",
    "            \n",
    "        else:\n",
    "            print('Not found')\n",
    "    except(EOFError):\n",
    "            break\n"
   ]
  },
  {
   "cell_type": "code",
   "execution_count": null,
   "metadata": {},
   "outputs": [],
   "source": []
  }
 ],
 "metadata": {
  "kernelspec": {
   "display_name": "Python 3",
   "language": "python",
   "name": "python3"
  }
 },
 "nbformat": 4,
 "nbformat_minor": 2
}
